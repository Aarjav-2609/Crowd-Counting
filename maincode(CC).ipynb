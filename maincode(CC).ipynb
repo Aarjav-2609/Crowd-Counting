{
  "nbformat": 4,
  "nbformat_minor": 0,
  "metadata": {
    "colab": {
      "provenance": []
    },
    "kernelspec": {
      "name": "python3",
      "display_name": "Python 3"
    },
    "language_info": {
      "name": "python"
    }
  },
  "cells": [
    {
      "cell_type": "code",
      "execution_count": null,
      "metadata": {
        "id": "7JZVd8ghTr90"
      },
      "outputs": [],
      "source": [
        "# Import libraries\n",
        "from PIL import Image\n",
        "import cv2\n",
        "import numpy as np\n",
        "import requests"
      ]
    },
    {
      "cell_type": "code",
      "source": [
        "image = Image.open(requests.get('https://a57.foxnews.com/media.foxbusiness.com/BrightCove/854081161001/201805/2879/931/524/854081161001_5782482890001_5782477388001-vs.jpg', stream=True).raw)\n",
        "image = image.resize((450,250))\n",
        "image_arr = np.array(image)\n",
        "image"
      ],
      "metadata": {
        "id": "ZfMmb3MjTxnB"
      },
      "execution_count": null,
      "outputs": []
    },
    {
      "cell_type": "code",
      "source": [
        "#Greyscaling\n",
        "grey = cv2.cvtColor(image_arr,cv2.COLOR_BGR2GRAY)\n",
        "Image.fromarray(grey)\n"
      ],
      "metadata": {
        "id": "_AyKdX6uTzz4"
      },
      "execution_count": null,
      "outputs": []
    },
    {
      "cell_type": "code",
      "source": [
        "#Gaussian Blur\n",
        "blur = cv2.GaussianBlur(grey,(5,5),0)\n",
        "Image.fromarray(blur)"
      ],
      "metadata": {
        "id": "7lu1Cs2kT7i6"
      },
      "execution_count": null,
      "outputs": []
    },
    {
      "cell_type": "code",
      "source": [
        "#Dialation\n",
        "dilated = cv2.dilate(blur,np.ones((3,3)))\n",
        "Image.fromarray(dilated)"
      ],
      "metadata": {
        "id": "7VSuGNL7T-pY"
      },
      "execution_count": null,
      "outputs": []
    },
    {
      "cell_type": "code",
      "source": [
        "#Morphology\n",
        "kernel = cv2.getStructuringElement(cv2.MORPH_ELLIPSE, (2, 2))\n",
        "closing = cv2.morphologyEx(dilated, cv2.MORPH_CLOSE, kernel)\n",
        "Image.fromarray(closing)"
      ],
      "metadata": {
        "id": "-r-4J-5GUEFT"
      },
      "execution_count": null,
      "outputs": []
    },
    {
      "cell_type": "code",
      "source": [
        "#Using Cascade\n",
        "car_cascade_src = 'cars.xml'\n",
        "car_cascade = cv2.CascadeClassifier(car_cascade_src)\n",
        "cars = car_cascade.detectMultiScale(closing, 1.1, 1)\n",
        "cars"
      ],
      "metadata": {
        "id": "ys-iwa9iUHqd"
      },
      "execution_count": null,
      "outputs": []
    },
    {
      "cell_type": "code",
      "source": [
        "cnt = 0\n",
        "for (x,y,w,h) in cars:\n",
        "    cv2.rectangle(image_arr,(x,y),(x+w,y+h),(255,0,0),2)\n",
        "    cnt += 1\n",
        "print(cnt, \" cars found\")\n",
        "Image.fromarray(image_arr)"
      ],
      "metadata": {
        "id": "2W1cOfSwUOj3"
      },
      "execution_count": null,
      "outputs": []
    },
    {
      "cell_type": "markdown",
      "source": [
        "For Detecting Bus"
      ],
      "metadata": {
        "id": "rQTCqlNQUWXF"
      }
    },
    {
      "cell_type": "code",
      "source": [
        "# Reading image form url\n",
        "image2 = Image.open(requests.get('https://qph.fs.quoracdn.net/main-qimg-b5c4e39dcd48dddd9e609e6022f74d85', stream=True).raw)\n",
        "image2 = image2.resize((450,250))\n",
        "image_arr2 = np.array(image2)\n",
        "grey2 = cv2.cvtColor(image_arr2,cv2.COLOR_BGR2GRAY)"
      ],
      "metadata": {
        "id": "BG9rAeScUVYl"
      },
      "execution_count": null,
      "outputs": []
    },
    {
      "cell_type": "code",
      "source": [
        "bus_cascade_src = 'Bus_front.xml'\n",
        "bus_cascade = cv2.CascadeClassifier(bus_cascade_src)\n",
        "bus = bus_cascade.detectMultiScale(grey2, 1.1, 1)\n"
      ],
      "metadata": {
        "id": "GlxnNA6FUbd6"
      },
      "execution_count": null,
      "outputs": []
    },
    {
      "cell_type": "code",
      "source": [
        "cnt = 0\n",
        "for (x,y,w,h) in bus:\n",
        "    cv2.rectangle(image_arr2,(x,y),(x+w,y+h),(255,0,0),2)\n",
        "    cnt += 1\n",
        "print(cnt, \" bus's found\")\n",
        "Image.fromarray(image_arr2)"
      ],
      "metadata": {
        "id": "aYWy5J5fUd1N"
      },
      "execution_count": null,
      "outputs": []
    },
    {
      "cell_type": "markdown",
      "source": [
        "For Analysing Videos"
      ],
      "metadata": {
        "id": "oO21WRElUiZZ"
      }
    },
    {
      "cell_type": "code",
      "source": [
        "cascade_src = 'cars.xml'\n",
        "video_src = 'Cars.mp4'\n",
        "\n",
        "cap = cv2.VideoCapture(video_src)\n",
        "car_cascade = cv2.CascadeClassifier(cascade_src)\n",
        "video = cv2.VideoWriter('result.avi',cv2.VideoWriter_fourcc(*'DIVX'), 15, (450,250))"
      ],
      "metadata": {
        "id": "58Y1_EuDUkpq"
      },
      "execution_count": null,
      "outputs": []
    }
  ]
}